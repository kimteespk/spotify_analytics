{
 "cells": [
  {
   "cell_type": "markdown",
   "metadata": {},
   "source": [
    "#### Spotify for devs\n",
    "https://developer.spotify.com/dashboard/applications/4d206f4fc6df4655ba56174fa19ed2b1/users\n",
    "\n",
    "#### Spotipy library document\n",
    "https://spotipy.readthedocs.io/en/master/\n",
    "\n",
    "#### Reference\n",
    "https://towardsdatascience.com/extracting-song-data-from-the-spotify-api-using-python-b1e79388d50\n"
   ]
  },
  {
   "cell_type": "code",
   "execution_count": 1,
   "metadata": {},
   "outputs": [],
   "source": [
    "import spotipy\n",
    "import config"
   ]
  },
  {
   "cell_type": "markdown",
   "metadata": {},
   "source": [
    "### Client Credentials\n",
    "The Client Credentials flow is used in server-to-server authentication. Only endpoints that do not access user information can be accessed. The advantage here in comparison with requests to the Web API made without an access token, is that a higher rate limit is applied."
   ]
  },
  {
   "cell_type": "code",
   "execution_count": 2,
   "metadata": {},
   "outputs": [],
   "source": [
    "# set client id and client secret to vars\n",
    "cid = config.client_id\n",
    "csc = config.client_secret"
   ]
  },
  {
   "cell_type": "code",
   "execution_count": 3,
   "metadata": {},
   "outputs": [],
   "source": [
    "# create method for auth\n",
    "client_credential_manager = spotipy.SpotifyClientCredentials(cid, csc)"
   ]
  },
  {
   "cell_type": "code",
   "execution_count": 4,
   "metadata": {},
   "outputs": [],
   "source": [
    "spotify = spotipy.Spotify(client_credentials_manager= client_credential_manager)\n",
    "sp = spotipy.Spotify(auth_manager= client_credential_manager)"
   ]
  },
  {
   "cell_type": "markdown",
   "metadata": {},
   "source": [
    "### Fetch audio analysis and features"
   ]
  },
  {
   "cell_type": "code",
   "execution_count": 5,
   "metadata": {},
   "outputs": [],
   "source": [
    "# Get uri code via share method at main spotify app\n",
    "heavenly_side_nghtmre = 'spotify:track:4cU3Hs8L9JyN5m37jmIQx2'\n",
    "heavenly_side_illenium = 'spotify:track:1xddmaN7Ivc2SQ940oBskZ'"
   ]
  },
  {
   "cell_type": "code",
   "execution_count": 6,
   "metadata": {},
   "outputs": [],
   "source": [
    "#  Features can sent songs in list dt\n",
    "\n",
    "nghtmre_analysis = spotify.audio_analysis(heavenly_side_nghtmre)\n",
    "nghtmre_features = spotify.audio_features(heavenly_side_nghtmre)\n",
    "illenium_analysis = spotify.audio_analysis(heavenly_side_illenium)\n",
    "illenium_features = spotify.audio_features(heavenly_side_illenium)"
   ]
  },
  {
   "cell_type": "code",
   "execution_count": 7,
   "metadata": {},
   "outputs": [
    {
     "name": "stdout",
     "output_type": "stream",
     "text": [
      "Audio Analysis Keys :\n",
      " dict_keys(['meta', 'track', 'bars', 'beats', 'sections', 'segments', 'tatums'])\n",
      "\n",
      "Audio Features Keys :\n",
      " [{'danceability': 0.423, 'energy': 0.753, 'key': 5, 'loudness': -5.958, 'mode': 1, 'speechiness': 0.0515, 'acousticness': 0.013, 'instrumentalness': 0.000143, 'liveness': 0.394, 'valence': 0.164, 'tempo': 144.851, 'type': 'audio_features', 'id': '4cU3Hs8L9JyN5m37jmIQx2', 'uri': 'spotify:track:4cU3Hs8L9JyN5m37jmIQx2', 'track_href': 'https://api.spotify.com/v1/tracks/4cU3Hs8L9JyN5m37jmIQx2', 'analysis_url': 'https://api.spotify.com/v1/audio-analysis/4cU3Hs8L9JyN5m37jmIQx2', 'duration_ms': 203371, 'time_signature': 4}]\n"
     ]
    }
   ],
   "source": [
    "print('Audio Analysis Keys :\\n',nghtmre_analysis.keys())\n",
    "\n",
    "print('\\nAudio Features Keys :\\n',nghtmre_features)\n"
   ]
  },
  {
   "cell_type": "code",
   "execution_count": 8,
   "metadata": {},
   "outputs": [],
   "source": [
    "# audio_analysis function return  dict\n",
    "        # \"\"\" Get audio analysis for a track based upon its Spotify ID\n",
    "        #     Parameters:\n",
    "        #         - track_id - a track URI, URL or ID\n",
    "        # \"\"\"\n",
    "        \n",
    "# audio_features function return the song features, such as danceability, energy ... ,"
   ]
  },
  {
   "cell_type": "markdown",
   "metadata": {},
   "source": [
    "# Fetch playlist (created by user with public access)"
   ]
  },
  {
   "cell_type": "code",
   "execution_count": 9,
   "metadata": {},
   "outputs": [],
   "source": [
    "kimteeuser = 'kimteespk'\n",
    "charlie = 'leebngkor'"
   ]
  },
  {
   "cell_type": "code",
   "execution_count": 10,
   "metadata": {},
   "outputs": [],
   "source": [
    "# Allowed access from Spotify for dev\n",
    "#playlists = spotify.user_playlists('kimteespk')\n",
    "\n",
    "# Others account\n",
    "#playlists = spotify.user_playlists(charlie)\n",
    "#playlists"
   ]
  },
  {
   "cell_type": "code",
   "execution_count": 70,
   "metadata": {},
   "outputs": [],
   "source": [
    "def fetch_playlist(authed ,userid: str) -> list:\n",
    "    \n",
    "    # create empty list and dict for append details\n",
    "    pl_list = []\n",
    "    a_pl_dict = dict()\n",
    "    \n",
    "    playlists = authed.user_playlists(userid)\n",
    "    while playlists:\n",
    "        for playlist in playlists['items']:\n",
    "            #print(playlist['uri'], playlist['name'])\n",
    "            \n",
    "            a_pl_dict['uri'] = playlist['uri']\n",
    "            a_pl_dict['name'] = playlist['name']\n",
    "            \n",
    "            # tracks in playlist \n",
    "            a_pl_dict['tracks'] = []\n",
    "            \n",
    "            \n",
    "            #print(a_pl_dict)\n",
    "            pl_list.append(a_pl_dict.copy())\n",
    "            #print(pl_list)\n",
    "            \n",
    "        if playlists['next']:\n",
    "            playlists = authed.next(playlists)\n",
    "        else:\n",
    "            playlists = None\n",
    "            print('Fetching complete')\n",
    "    \n",
    "    return pl_list"
   ]
  },
  {
   "cell_type": "code",
   "execution_count": 71,
   "metadata": {},
   "outputs": [
    {
     "name": "stdout",
     "output_type": "stream",
     "text": [
      "Fetching complete\n"
     ]
    }
   ],
   "source": [
    "kimtee_playlists = fetch_playlist(sp, kimteeuser)"
   ]
  },
  {
   "cell_type": "code",
   "execution_count": 72,
   "metadata": {},
   "outputs": [
    {
     "data": {
      "text/plain": [
       "[{'uri': 'spotify:playlist:4EsL6ZFW5hdrEtzQ7WUnry',\n",
       "  'name': 'ลาก่อน – YourMOOD',\n",
       "  'tracks': []},\n",
       " {'uri': 'spotify:playlist:2nXigRYw7hz6omYCJheYdZ',\n",
       "  'name': 'Say Less - Eptic Remix – Dillon Francis',\n",
       "  'tracks': []},\n",
       " {'uri': 'spotify:playlist:5GFgfG1qAp6QL5j1qf3pvc',\n",
       "  'name': 'highschool',\n",
       "  'tracks': []},\n",
       " {'uri': 'spotify:playlist:764bfcdDeCFJG20jxw2KPM',\n",
       "  'name': 'Crispykimt',\n",
       "  'tracks': []},\n",
       " {'uri': 'spotify:playlist:51XjK7e4jA4ibUF7Freg2h',\n",
       "  'name': 'Broke – Samm Henshaw',\n",
       "  'tracks': []},\n",
       " {'uri': 'spotify:playlist:0Ex0ISBmSrF8PdAbST2zH9',\n",
       "  'name': 'อยากให้เธออยู่ตรงนี้ – The BESTS',\n",
       "  'tracks': []},\n",
       " {'uri': 'spotify:playlist:1s9jK3ysmR7FCdoEDHPvQB',\n",
       "  'name': 'Super Nova – Ty Frankel',\n",
       "  'tracks': []},\n",
       " {'uri': 'spotify:playlist:4iX8Ma3cBti51XjbLiIDSr',\n",
       "  'name': 'radio',\n",
       "  'tracks': []},\n",
       " {'uri': 'spotify:playlist:1XCQNvAWczbXu1SdzaEjMk',\n",
       "  'name': 'th.',\n",
       "  'tracks': []},\n",
       " {'uri': 'spotify:playlist:50nbUkSwJ0DmTSrGnj7cnh',\n",
       "  'name': 'dnb',\n",
       "  'tracks': []},\n",
       " {'uri': 'spotify:playlist:0kN0qRPwXAiZhGkGAtojUL',\n",
       "  'name': 'emd2022',\n",
       "  'tracks': []},\n",
       " {'uri': 'spotify:playlist:6QNLJQlkBGoVSPeg2IM6p2',\n",
       "  'name': 'mld',\n",
       "  'tracks': []},\n",
       " {'uri': 'spotify:playlist:3RGdMxmNDOTgpPMfwQXU1Q',\n",
       "  'name': 'synth time',\n",
       "  'tracks': []},\n",
       " {'uri': 'spotify:playlist:24knC38vuBFzNNfrEgsDFS',\n",
       "  'name': 'One Step Closer – Linkin Park',\n",
       "  'tracks': []},\n",
       " {'uri': 'spotify:playlist:31CnlOHojNy9PgWsvoIg9X',\n",
       "  'name': 'rock',\n",
       "  'tracks': []},\n",
       " {'uri': 'spotify:playlist:1rjOehlrBnXT6KLNmS6rUe',\n",
       "  'name': 'After Midnight – blink-182',\n",
       "  'tracks': []},\n",
       " {'uri': 'spotify:playlist:2CzX53w66DsYqVVSYvwMRJ',\n",
       "  'name': 'ลืมไป (feat. ปู่จ๋าน ลองไมค์) – WANYAi',\n",
       "  'tracks': []},\n",
       " {'uri': 'spotify:playlist:7jr2ldW2MU1HMnF9hIXAHA',\n",
       "  'name': 'act',\n",
       "  'tracks': []},\n",
       " {'uri': 'spotify:playlist:20dABPPPDm0Sl8ySq98NyG',\n",
       "  'name': 'Show Me Love – Sam Feldt',\n",
       "  'tracks': []},\n",
       " {'uri': 'spotify:playlist:1b1EbrIEDkvu6yXiv5tEvz',\n",
       "  'name': 'Clarity - Brillz Remix – Zedd',\n",
       "  'tracks': []},\n",
       " {'uri': 'spotify:playlist:4H3Nl39qaAq4ZOi2Qdaoou',\n",
       "  'name': 'Turtle Neck – PhaseOne',\n",
       "  'tracks': []},\n",
       " {'uri': 'spotify:playlist:5alFHVDK2k4iVZF8c5sfQi',\n",
       "  'name': 'Follow You – Bring Me The Horizon',\n",
       "  'tracks': []},\n",
       " {'uri': 'spotify:playlist:19hj1j6GEF8hsJVjafv8it',\n",
       "  'name': 'mylody',\n",
       "  'tracks': []},\n",
       " {'uri': 'spotify:playlist:4R1jNaEbl0PJU1RELemWis',\n",
       "  'name': 'Creep – Radiohead',\n",
       "  'tracks': []},\n",
       " {'uri': 'spotify:playlist:0jO1akCOMBGeL39Gi0bRAh',\n",
       "  'name': 'Pass da Mic – K6Y',\n",
       "  'tracks': []},\n",
       " {'uri': 'spotify:playlist:6Iipi9xAEIs4cMyw7bDg4f',\n",
       "  'name': 'timefiles',\n",
       "  'tracks': []},\n",
       " {'uri': 'spotify:playlist:3hbJXYLO81QXfIPgaaRBfu',\n",
       "  'name': 'Flowcode',\n",
       "  'tracks': []},\n",
       " {'uri': 'spotify:playlist:31nhOOjN2wsZ5vNMLOHnFb',\n",
       "  'name': 'slowdownbaby',\n",
       "  'tracks': []},\n",
       " {'uri': 'spotify:playlist:1vOtTkVqB67N1IJ1DG2Tz2',\n",
       "  'name': 'Hail To The Victor – Thirty Seconds To Mars',\n",
       "  'tracks': []}]"
      ]
     },
     "execution_count": 72,
     "metadata": {},
     "output_type": "execute_result"
    }
   ],
   "source": [
    "kimtee_playlists"
   ]
  },
  {
   "cell_type": "code",
   "execution_count": null,
   "metadata": {},
   "outputs": [],
   "source": [
    "\n",
    "playlists = sp.user_playlists('kimteespk')\n",
    "while playlists:\n",
    "    for i, playlist in enumerate(playlists['items']):\n",
    "        print(\"%4d %s %s\" % (i + 1 + playlists['offset'], playlist['uri'],  playlist['name']))\n",
    "    if playlists['next']:\n",
    "        print('playlist next :', playlists['next'])\n",
    "        playlists = sp.next(playlists)\n",
    "    else:\n",
    "        print('Else here')\n",
    "        playlists = None"
   ]
  },
  {
   "cell_type": "code",
   "execution_count": 17,
   "metadata": {},
   "outputs": [
    {
     "data": {
      "text/plain": [
       "dict_keys(['collaborative', 'description', 'external_urls', 'href', 'id', 'images', 'name', 'owner', 'primary_color', 'public', 'snapshot_id', 'tracks', 'type', 'uri'])"
      ]
     },
     "execution_count": 17,
     "metadata": {},
     "output_type": "execute_result"
    }
   ],
   "source": [
    "playlist.keys()"
   ]
  },
  {
   "cell_type": "code",
   "execution_count": 18,
   "metadata": {},
   "outputs": [
    {
     "name": "stdout",
     "output_type": "stream",
     "text": [
      "Name : Hail To The Victor – Thirty Seconds To Mars\n",
      "playlist track : {'href': 'https://api.spotify.com/v1/playlists/1vOtTkVqB67N1IJ1DG2Tz2/tracks', 'total': 13}\n",
      "playlist id : 1vOtTkVqB67N1IJ1DG2Tz2\n",
      "playlist uri : spotify:playlist:1vOtTkVqB67N1IJ1DG2Tz2\n"
     ]
    }
   ],
   "source": [
    "print('Name :', playlist['name'])\n",
    "print('playlist track :',playlist['tracks'])\n",
    "print('playlist id :', playlist['id'])\n",
    "print('playlist uri :', playlist['uri'])"
   ]
  },
  {
   "cell_type": "code",
   "execution_count": 23,
   "metadata": {},
   "outputs": [
    {
     "data": {
      "text/plain": [
       "dict_keys(['collaborative', 'description', 'external_urls', 'href', 'id', 'images', 'name', 'owner', 'primary_color', 'public', 'snapshot_id', 'tracks', 'type', 'uri'])"
      ]
     },
     "execution_count": 23,
     "metadata": {},
     "output_type": "execute_result"
    }
   ],
   "source": [
    "playlist.keys()"
   ]
  },
  {
   "cell_type": "markdown",
   "metadata": {},
   "source": [
    "#### Fetch tracks in playlist"
   ]
  },
  {
   "cell_type": "code",
   "execution_count": 120,
   "metadata": {},
   "outputs": [
    {
     "data": {
      "text/plain": [
       "dict_keys(['href', 'items', 'limit', 'next', 'offset', 'previous', 'total'])"
      ]
     },
     "execution_count": 120,
     "metadata": {},
     "output_type": "execute_result"
    }
   ],
   "source": [
    "# fetch via uri\n",
    "pl_uri = 'spotify:playlist:1vOtTkVqB67N1IJ1DG2Tz2'\n",
    "tracks = sp.playlist_tracks(pl_uri)#, limit=2)\n",
    "tracks.keys()"
   ]
  },
  {
   "cell_type": "code",
   "execution_count": 73,
   "metadata": {},
   "outputs": [
    {
     "data": {
      "text/plain": [
       "dict_keys(['href', 'items', 'limit', 'next', 'offset', 'previous', 'total'])"
      ]
     },
     "execution_count": 73,
     "metadata": {},
     "output_type": "execute_result"
    }
   ],
   "source": [
    "# get all tracks details in playlist\n",
    "\n",
    "tracks = sp.playlist_tracks(playlist_id= playlist['id'],)#, limit=2)\n",
    "tracks.keys()\n",
    "\n",
    " # playlist_tracks return as dict that collect each song in value as a list"
   ]
  },
  {
   "cell_type": "code",
   "execution_count": 122,
   "metadata": {},
   "outputs": [
    {
     "name": "stdout",
     "output_type": "stream",
     "text": [
      "Number of artist collaborate 1\n",
      "Number of artist collaborate 2\n",
      "Number of artist collaborate 1\n",
      "Number of artist collaborate 2\n",
      "Number of artist collaborate 2\n",
      "Number of artist collaborate 2\n",
      "Number of artist collaborate 1\n",
      "Number of artist collaborate 1\n",
      "Number of artist collaborate 1\n",
      "Number of artist collaborate 1\n",
      "Number of artist collaborate 1\n",
      "Number of artist collaborate 1\n",
      "Number of artist collaborate 1\n"
     ]
    }
   ],
   "source": [
    "\n",
    "# loop through all tracks and get details\n",
    "for i in range(len(tracks['items'])):\n",
    "    track_name = tracks['items'][i]['track']['name']\n",
    "    track_artist = tracks['items'][i]['track']['artists'][0]['name']\n",
    "    # * maybe chack track_artist to be [], thats collect all feauturing artsits, to fetch using for loop in range len\n",
    "    track_added_date = tracks['items'][i]['added_at']\n",
    "    track_uri = tracks['items'][i]['track']['uri']\n",
    "    track_n_artists = len(tracks['items'][i]['track']['artists'])\n",
    "    print('Number of artist collaborate', track_n_artists)\n",
    "    \n",
    "    # set all value dict and append dicts to a list element \n",
    "    \n",
    "    \n",
    "    \n",
    "#  TODO integrating with main function // or create as new function then called at main function"
   ]
  },
  {
   "cell_type": "code",
   "execution_count": 98,
   "metadata": {},
   "outputs": [
    {
     "data": {
      "text/plain": [
       "'Tove Lo'"
      ]
     },
     "execution_count": 98,
     "metadata": {},
     "output_type": "execute_result"
    }
   ],
   "source": [
    "tracks['items'][1]['track']['name']\n",
    "# item[1] is track 1 from all fetch, and first artists name\n",
    "tracks['items'][1]['track']['artists'][0]['name']\n",
    "# item[1] is track 1 from all fetch, and second artists name\n",
    "# second artists name\n",
    "tracks['items'][1]['track']['artists'][1]['name']"
   ]
  },
  {
   "cell_type": "code",
   "execution_count": null,
   "metadata": {},
   "outputs": [],
   "source": [
    "\n",
    "# Fetch tracks history\n"
   ]
  },
  {
   "cell_type": "markdown",
   "metadata": {},
   "source": [
    "#### Just data structures optimize"
   ]
  },
  {
   "cell_type": "code",
   "execution_count": 31,
   "metadata": {},
   "outputs": [],
   "source": [
    "pl_dct = dict()\n",
    "pl_dct['uri'] = []\n",
    "pl_dct['name'] = []\n",
    "\n",
    "u1 = 'uri1'\n",
    "u2 = 'uri2'\n",
    "\n",
    "n1 = 'name1'\n",
    "n2 = 'name2'\n",
    "\n",
    "pl_dct['uri'].append(u1)\n",
    "pl_dct['uri'].append(u2)\n",
    "pl_dct['name'].append(n1)\n",
    "pl_dct['name'].append(n2)\n"
   ]
  },
  {
   "cell_type": "code",
   "execution_count": 52,
   "metadata": {},
   "outputs": [
    {
     "name": "stdout",
     "output_type": "stream",
     "text": [
      "name1\n",
      "uri1\n",
      "name2\n",
      "uri2\n"
     ]
    }
   ],
   "source": [
    "for i in range(len(pl_dct['name'])):\n",
    "    print(pl_dct['name'][i])\n",
    "    print(pl_dct['uri'][i])"
   ]
  },
  {
   "cell_type": "code",
   "execution_count": 54,
   "metadata": {},
   "outputs": [
    {
     "data": {
      "text/plain": [
       "{'uri': ['uri1', 'uri2'], 'name': ['name1', 'name2']}"
      ]
     },
     "execution_count": 54,
     "metadata": {},
     "output_type": "execute_result"
    }
   ],
   "source": [
    "'uri3' in pl_dct['uri']\n",
    "pl_dct"
   ]
  },
  {
   "cell_type": "code",
   "execution_count": 43,
   "metadata": {},
   "outputs": [
    {
     "name": "stdout",
     "output_type": "stream",
     "text": [
      "uri\n",
      "['uri1', 'uri2']\n",
      "name\n",
      "['name1', 'name2']\n"
     ]
    }
   ],
   "source": [
    "for k,v in pl_dct.items():\n",
    "    print(k)\n",
    "    print(v)"
   ]
  },
  {
   "cell_type": "code",
   "execution_count": null,
   "metadata": {},
   "outputs": [],
   "source": [
    "lst = []\n",
    "nnn = {'name1': 'kimtee'}\n",
    "lst.append(nnn)\n",
    "nnnn = {'name2': 'kimtee2'}\n",
    "lst.append(nnnn.keys()[0])\n",
    "lst"
   ]
  },
  {
   "cell_type": "code",
   "execution_count": null,
   "metadata": {},
   "outputs": [],
   "source": [
    "def fetch_playlist2(authed ,userid: str) -> list:\n",
    "    \n",
    "    # create empty list and dict for append details\n",
    "    pl_list = []\n",
    "    a_pl_dict = dict()\n",
    "    \n",
    "    playlists = authed.user_playlists(userid)\n",
    "    while playlists:\n",
    "        for playlist in playlists['items']:\n",
    "            print(playlist['uri'], playlist['name'])\n",
    "            \n",
    "            a_pl_dict[playlist['uri']] = []\n",
    "            a_pl_dict[playlist['uri']].append({'name' : playlist['name']})\n",
    "            \n",
    "            \n",
    "            a_pl_dict['name'] = playlist['name']\n",
    "            #print(a_pl_dict)\n",
    "            pl_list.append(a_pl_dict.copy())\n",
    "            #print(pl_list)\n",
    "            \n",
    "        if playlists['next']:\n",
    "            playlists = authed.next(playlists)\n",
    "        else:\n",
    "            playlists = None\n",
    "            print('Fetching complete')\n",
    "    \n",
    "    return pl_list"
   ]
  },
  {
   "cell_type": "markdown",
   "metadata": {},
   "source": [
    "# Reference"
   ]
  },
  {
   "cell_type": "code",
   "execution_count": null,
   "metadata": {},
   "outputs": [],
   "source": [
    "import spotipy\n",
    "from spotipy.oauth2 import SpotifyClientCredentials\n",
    "\n",
    "auth_manager2 = SpotifyClientCredentials(cid, csc)\n",
    "sp2 = spotipy.Spotify(auth_manager=auth_manager2)\n",
    "\n",
    "# playlists = sp2.user_playlists('spotify')\n",
    "playlists = sp2.user_playlists('kimteespk')\n",
    "while playlists:\n",
    "    for i, playlist in enumerate(playlists['items']):\n",
    "        print(\"%4d %s %s\" % (i + 1 + playlists['offset'], playlist['uri'],  playlist['name']))\n",
    "    if playlists['next']:\n",
    "        playlists = sp.next(playlists)\n",
    "    else:\n",
    "        playlists = None"
   ]
  }
 ],
 "metadata": {
  "kernelspec": {
   "display_name": "Python 3.8.10 ('base')",
   "language": "python",
   "name": "python3"
  },
  "language_info": {
   "codemirror_mode": {
    "name": "ipython",
    "version": 3
   },
   "file_extension": ".py",
   "mimetype": "text/x-python",
   "name": "python",
   "nbconvert_exporter": "python",
   "pygments_lexer": "ipython3",
   "version": "3.8.10"
  },
  "orig_nbformat": 4,
  "vscode": {
   "interpreter": {
    "hash": "e4cce46d6be9934fbd27f9ca0432556941ea5bdf741d4f4d64c6cd7f8dfa8fba"
   }
  }
 },
 "nbformat": 4,
 "nbformat_minor": 2
}
